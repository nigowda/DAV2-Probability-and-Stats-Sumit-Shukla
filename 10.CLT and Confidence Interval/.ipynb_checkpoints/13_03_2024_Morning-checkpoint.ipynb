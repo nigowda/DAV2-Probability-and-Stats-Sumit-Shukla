{
 "cells": [
  {
   "cell_type": "code",
   "execution_count": 1,
   "metadata": {
    "id": "SHSHTR3XTJ6B"
   },
   "outputs": [],
   "source": [
    "import pandas as pd\n",
    "import numpy as np\n",
    "import seaborn as sns\n",
    "import matplotlib.pyplot as plt\n",
    "from scipy.stats import norm"
   ]
  },
  {
   "cell_type": "code",
   "execution_count": 2,
   "metadata": {
    "colab": {
     "base_uri": "https://localhost:8080/",
     "height": 206
    },
    "id": "Q30QNVhhTu4s",
    "outputId": "045e5115-4efc-4ee6-d2a0-63babc3d67a8"
   },
   "outputs": [
    {
     "data": {
      "text/html": [
       "<div>\n",
       "<style scoped>\n",
       "    .dataframe tbody tr th:only-of-type {\n",
       "        vertical-align: middle;\n",
       "    }\n",
       "\n",
       "    .dataframe tbody tr th {\n",
       "        vertical-align: top;\n",
       "    }\n",
       "\n",
       "    .dataframe thead th {\n",
       "        text-align: right;\n",
       "    }\n",
       "</style>\n",
       "<table border=\"1\" class=\"dataframe\">\n",
       "  <thead>\n",
       "    <tr style=\"text-align: right;\">\n",
       "      <th></th>\n",
       "      <th>Gender</th>\n",
       "      <th>Height</th>\n",
       "      <th>Weight</th>\n",
       "      <th>Height_Feet</th>\n",
       "      <th>Weight_Kg</th>\n",
       "    </tr>\n",
       "  </thead>\n",
       "  <tbody>\n",
       "    <tr>\n",
       "      <th>0</th>\n",
       "      <td>Male</td>\n",
       "      <td>73.847017</td>\n",
       "      <td>241.893563</td>\n",
       "      <td>6.153916</td>\n",
       "      <td>109.720985</td>\n",
       "    </tr>\n",
       "    <tr>\n",
       "      <th>1</th>\n",
       "      <td>Male</td>\n",
       "      <td>68.781904</td>\n",
       "      <td>162.310473</td>\n",
       "      <td>5.731823</td>\n",
       "      <td>73.622732</td>\n",
       "    </tr>\n",
       "    <tr>\n",
       "      <th>2</th>\n",
       "      <td>Male</td>\n",
       "      <td>74.110105</td>\n",
       "      <td>212.740856</td>\n",
       "      <td>6.175840</td>\n",
       "      <td>96.497550</td>\n",
       "    </tr>\n",
       "    <tr>\n",
       "      <th>3</th>\n",
       "      <td>Male</td>\n",
       "      <td>71.730978</td>\n",
       "      <td>220.042470</td>\n",
       "      <td>5.977579</td>\n",
       "      <td>99.809504</td>\n",
       "    </tr>\n",
       "    <tr>\n",
       "      <th>4</th>\n",
       "      <td>Male</td>\n",
       "      <td>69.881796</td>\n",
       "      <td>206.349801</td>\n",
       "      <td>5.823481</td>\n",
       "      <td>93.598619</td>\n",
       "    </tr>\n",
       "  </tbody>\n",
       "</table>\n",
       "</div>"
      ],
      "text/plain": [
       "  Gender     Height      Weight  Height_Feet   Weight_Kg\n",
       "0   Male  73.847017  241.893563     6.153916  109.720985\n",
       "1   Male  68.781904  162.310473     5.731823   73.622732\n",
       "2   Male  74.110105  212.740856     6.175840   96.497550\n",
       "3   Male  71.730978  220.042470     5.977579   99.809504\n",
       "4   Male  69.881796  206.349801     5.823481   93.598619"
      ]
     },
     "execution_count": 2,
     "metadata": {},
     "output_type": "execute_result"
    }
   ],
   "source": [
    "df = pd.read_excel('weight-height.xlsx')\n",
    "df.head()"
   ]
  },
  {
   "cell_type": "code",
   "execution_count": 3,
   "metadata": {},
   "outputs": [
    {
     "data": {
      "text/html": [
       "<div>\n",
       "<style scoped>\n",
       "    .dataframe tbody tr th:only-of-type {\n",
       "        vertical-align: middle;\n",
       "    }\n",
       "\n",
       "    .dataframe tbody tr th {\n",
       "        vertical-align: top;\n",
       "    }\n",
       "\n",
       "    .dataframe thead th {\n",
       "        text-align: right;\n",
       "    }\n",
       "</style>\n",
       "<table border=\"1\" class=\"dataframe\">\n",
       "  <thead>\n",
       "    <tr style=\"text-align: right;\">\n",
       "      <th></th>\n",
       "      <th>Gender</th>\n",
       "      <th>Height</th>\n",
       "      <th>Weight</th>\n",
       "      <th>Height_Feet</th>\n",
       "      <th>Weight_Kg</th>\n",
       "    </tr>\n",
       "  </thead>\n",
       "  <tbody>\n",
       "    <tr>\n",
       "      <th>0</th>\n",
       "      <td>Male</td>\n",
       "      <td>73.847017</td>\n",
       "      <td>241.893563</td>\n",
       "      <td>6.153916</td>\n",
       "      <td>109.720985</td>\n",
       "    </tr>\n",
       "    <tr>\n",
       "      <th>1</th>\n",
       "      <td>Male</td>\n",
       "      <td>68.781904</td>\n",
       "      <td>162.310473</td>\n",
       "      <td>5.731823</td>\n",
       "      <td>73.622732</td>\n",
       "    </tr>\n",
       "    <tr>\n",
       "      <th>2</th>\n",
       "      <td>Male</td>\n",
       "      <td>74.110105</td>\n",
       "      <td>212.740856</td>\n",
       "      <td>6.175840</td>\n",
       "      <td>96.497550</td>\n",
       "    </tr>\n",
       "    <tr>\n",
       "      <th>3</th>\n",
       "      <td>Male</td>\n",
       "      <td>71.730978</td>\n",
       "      <td>220.042470</td>\n",
       "      <td>5.977579</td>\n",
       "      <td>99.809504</td>\n",
       "    </tr>\n",
       "    <tr>\n",
       "      <th>4</th>\n",
       "      <td>Male</td>\n",
       "      <td>69.881796</td>\n",
       "      <td>206.349801</td>\n",
       "      <td>5.823481</td>\n",
       "      <td>93.598619</td>\n",
       "    </tr>\n",
       "    <tr>\n",
       "      <th>...</th>\n",
       "      <td>...</td>\n",
       "      <td>...</td>\n",
       "      <td>...</td>\n",
       "      <td>...</td>\n",
       "      <td>...</td>\n",
       "    </tr>\n",
       "    <tr>\n",
       "      <th>9995</th>\n",
       "      <td>Female</td>\n",
       "      <td>66.172652</td>\n",
       "      <td>136.777454</td>\n",
       "      <td>5.514385</td>\n",
       "      <td>62.041159</td>\n",
       "    </tr>\n",
       "    <tr>\n",
       "      <th>9996</th>\n",
       "      <td>Female</td>\n",
       "      <td>67.067155</td>\n",
       "      <td>170.867906</td>\n",
       "      <td>5.588927</td>\n",
       "      <td>77.504315</td>\n",
       "    </tr>\n",
       "    <tr>\n",
       "      <th>9997</th>\n",
       "      <td>Female</td>\n",
       "      <td>63.867992</td>\n",
       "      <td>128.475319</td>\n",
       "      <td>5.322331</td>\n",
       "      <td>58.275377</td>\n",
       "    </tr>\n",
       "    <tr>\n",
       "      <th>9998</th>\n",
       "      <td>Female</td>\n",
       "      <td>69.034243</td>\n",
       "      <td>163.852461</td>\n",
       "      <td>5.752851</td>\n",
       "      <td>74.322166</td>\n",
       "    </tr>\n",
       "    <tr>\n",
       "      <th>9999</th>\n",
       "      <td>Female</td>\n",
       "      <td>61.944246</td>\n",
       "      <td>113.649103</td>\n",
       "      <td>5.162018</td>\n",
       "      <td>51.550324</td>\n",
       "    </tr>\n",
       "  </tbody>\n",
       "</table>\n",
       "<p>10000 rows × 5 columns</p>\n",
       "</div>"
      ],
      "text/plain": [
       "      Gender     Height      Weight  Height_Feet   Weight_Kg\n",
       "0       Male  73.847017  241.893563     6.153916  109.720985\n",
       "1       Male  68.781904  162.310473     5.731823   73.622732\n",
       "2       Male  74.110105  212.740856     6.175840   96.497550\n",
       "3       Male  71.730978  220.042470     5.977579   99.809504\n",
       "4       Male  69.881796  206.349801     5.823481   93.598619\n",
       "...      ...        ...         ...          ...         ...\n",
       "9995  Female  66.172652  136.777454     5.514385   62.041159\n",
       "9996  Female  67.067155  170.867906     5.588927   77.504315\n",
       "9997  Female  63.867992  128.475319     5.322331   58.275377\n",
       "9998  Female  69.034243  163.852461     5.752851   74.322166\n",
       "9999  Female  61.944246  113.649103     5.162018   51.550324\n",
       "\n",
       "[10000 rows x 5 columns]"
      ]
     },
     "execution_count": 3,
     "metadata": {},
     "output_type": "execute_result"
    }
   ],
   "source": [
    "df"
   ]
  },
  {
   "cell_type": "code",
   "execution_count": 4,
   "metadata": {
    "colab": {
     "base_uri": "https://localhost:8080/"
    },
    "id": "_-9xoF5eeNuP",
    "outputId": "f40cc2c9-cc29-4f46-e265-d79feec93684"
   },
   "outputs": [
    {
     "data": {
      "text/plain": [
       "0.5987063256829237"
      ]
     },
     "execution_count": 4,
     "metadata": {},
     "output_type": "execute_result"
    }
   ],
   "source": [
    "# Sumith mobile phone\n",
    "\n",
    "z = (30-28)/8\n",
    "norm.cdf(z)"
   ]
  },
  {
   "cell_type": "code",
   "execution_count": 5,
   "metadata": {
    "colab": {
     "base_uri": "https://localhost:8080/"
    },
    "id": "MmmSf4rjeS7q",
    "outputId": "ad359a19-3b25-4a70-a4b4-95b72f615eb4"
   },
   "outputs": [
    {
     "data": {
      "text/plain": [
       "0.9986501019683699"
      ]
     },
     "execution_count": 5,
     "metadata": {},
     "output_type": "execute_result"
    }
   ],
   "source": [
    "z = (72.5-65)/2.5\n",
    "norm.cdf(z)"
   ]
  },
  {
   "cell_type": "code",
   "execution_count": 6,
   "metadata": {
    "colab": {
     "base_uri": "https://localhost:8080/"
    },
    "id": "GJDmv2q6fmg6",
    "outputId": "0b1cc707-0f1b-4787-e18e-9310bc32750a"
   },
   "outputs": [
    {
     "data": {
      "text/plain": [
       "0.022750131948179195"
      ]
     },
     "execution_count": 6,
     "metadata": {},
     "output_type": "execute_result"
    }
   ],
   "source": [
    "z = (60-65)/2.5\n",
    "norm.cdf(z)"
   ]
  },
  {
   "cell_type": "markdown",
   "metadata": {
    "id": "qpfImS8ek5JF"
   },
   "source": [
    "**Assumption: The entire data is the population data**"
   ]
  },
  {
   "cell_type": "code",
   "execution_count": 7,
   "metadata": {
    "colab": {
     "base_uri": "https://localhost:8080/",
     "height": 467
    },
    "id": "XhkY1rLMlz57",
    "outputId": "859d4fff-721c-46b6-b97d-c7176ea2b63e"
   },
   "outputs": [
    {
     "data": {
      "text/plain": [
       "<Axes: xlabel='Height', ylabel='Count'>"
      ]
     },
     "execution_count": 7,
     "metadata": {},
     "output_type": "execute_result"
    },
    {
     "data": {
      "image/png": "[encoded data removed]",
      "text/plain": [
       "<Figure size 640x480 with 1 Axes>"
      ]
     },
     "metadata": {},
     "output_type": "display_data"
    }
   ],
   "source": [
    "sns.histplot(x = df['Height'])"
   ]
  },
  {
   "cell_type": "code",
   "execution_count": 8,
   "metadata": {
    "colab": {
     "base_uri": "https://localhost:8080/"
    },
    "id": "JRUZZns7fy0W",
    "outputId": "7532ba95-6de2-4e96-86da-ad49c09edca9"
   },
   "outputs": [
    {
     "data": {
      "text/plain": [
       "66.36755975482124"
      ]
     },
     "execution_count": 8,
     "metadata": {},
     "output_type": "execute_result"
    }
   ],
   "source": [
    "df['Height'].mean()\n",
    "# population avg"
   ]
  },
  {
   "cell_type": "code",
   "execution_count": 9,
   "metadata": {
    "id": "qizKu0pbk1vA"
   },
   "outputs": [],
   "source": [
    "s = []\n",
    "for i in range(1000):\n",
    "  a = df['Height'].sample(2000).mean()\n",
    "  s.append(a)"
   ]
  },
  {
   "cell_type": "code",
   "execution_count": 34,
   "metadata": {
    "colab": {
     "base_uri": "https://localhost:8080/",
     "height": 448
    },
    "id": "j7eA_9ynlBny",
    "outputId": "88286b80-d5d0-45e3-ab80-e1f13caed2ee"
   },
   "outputs": [
    {
     "data": {
      "text/plain": [
       "<Axes: ylabel='Count'>"
      ]
     },
     "execution_count": 34,
     "metadata": {},
     "output_type": "execute_result"
    },
    {
     "data": {
      "image/png": "[encoded data removed]",
      "text/plain": [
       "<Figure size 640x480 with 1 Axes>"
      ]
     },
     "metadata": {},
     "output_type": "display_data"
    }
   ],
   "source": [
    "sns.histplot(s)"
   ]
  },
  {
   "cell_type": "code",
   "execution_count": null,
   "metadata": {},
   "outputs": [],
   "source": [
    "\n"
   ]
  },
  {
   "cell_type": "markdown",
   "metadata": {
    "id": "afuh0W_Lm96d"
   },
   "source": [
    "- n=10: 63-70\n",
    "- n=100: 65-67\n",
    "- n =1000: 66.0-66.7\n",
    "- n =2000: 66.2-66.6"
   ]
  },
  {
   "cell_type": "code",
   "execution_count": 14,
   "metadata": {
    "colab": {
     "base_uri": "https://localhost:8080/"
    },
    "id": "LVcY3K-flR-p",
    "outputId": "4c8b6089-4b3e-464c-a49c-52a0b05369a2"
   },
   "outputs": [
    {
     "name": "stdout",
     "output_type": "stream",
     "text": [
      "[66.5361350562288, 66.22242747030266, 66.65452080542968, 66.3644655604495, 66.13321568740302, 66.56913960696961, 66.43164056732425, 66.4351971324504, 66.29192391783955, 66.36258339210843, 66.51599312512124, 66.32238400626474, 66.42697053849828, 66.28492764455511, 66.4064330418901, 66.35758783700494, 66.13405205250416, 66.3655898400665, 66.43678983767462, 66.29604597753165, 66.5650301010579, 66.20349474995311, 66.25968928067563, 66.13974276620601, 66.37520905334466, 66.31564944164711, 66.37928060433299, 66.39687089479884, 66.53499162950912, 66.30334112952606, 66.48402842964273, 66.1593235408114, 66.40180265619274, 66.36388078858869, 66.27341821713686, 66.1090295814549, 66.52736059547681, 66.16869124722774, 66.30856109660984, 66.55979831492054, 66.55815977212988, 66.17052139342049, 66.49913159252178, 66.16307988342568, 66.62912482011367, 66.41322623070063, 66.36873447507516, 66.20867410230488, 66.3361562967407, 66.35792174730511, 66.48034048296243, 66.54816391879349, 66.45330090843572, 66.44038861378166, 66.34032068700036, 66.46848382397111, 66.2801847556399, 66.41434121238575, 66.20600991108769, 66.21708428546142, 66.27012362307624, 66.26513291678144, 66.14176810644966, 66.20113426901962, 66.1872891790932, 66.4465958585181, 66.40151113283964, 66.31776576596434, 66.48794514713501, 66.47568836651422, 66.4138485276399, 66.3978008484258, 66.40036401509317, 66.3304279869964, 66.36900650023338, 66.60647892585881, 66.17481608909007, 66.3328087087791, 66.4950769601934, 66.30062530015238, 66.5420310741436, 66.34766943044521, 66.46499521223156, 66.63641808139842, 66.29613388364652, 66.25633069997664, 66.3766372264578, 66.41792970597872, 66.53627202241542, 66.34281596291368, 66.37186979844448, 66.36036290686289, 66.23408327475869, 66.59557702447268, 66.34645193950709, 66.45719937725964, 66.39804979690399, 66.50824796695858, 66.42034879878483, 66.353280081947, 66.21619943694894, 66.20080509959757, 66.53754361208593, 66.38831652832415, 66.50212734449615, 66.35755349536922, 66.55578220765743, 66.19230936494763, 66.38309362085792, 66.44557289695699, 66.34112261360993, 66.3219248769347, 66.43108265551128, 66.3978998205881, 66.1952868723827, 66.4193491681991, 66.4492678259895, 66.64157415018474, 66.47368112434928, 66.48448387752249, 66.46207268599275, 66.3284583938877, 66.37974448592769, 66.37812243408774, 66.22595870674077, 66.24027309021426, 66.4389732715487, 66.38164298901349, 66.55826478408434, 66.41490877660792, 66.2151707745786, 66.36641416369312, 66.49528147023526, 66.67152727615886, 66.36158799096916, 66.4356463288497, 66.36529461323755, 66.24262177793044, 66.34350945877063, 66.46273559723389, 66.16550888813583, 66.45279229764276, 66.29141617012122, 66.42885831425099, 66.50904410408955, 66.30593646822886, 66.42144927218328, 66.37989608310127, 66.38181187527759, 66.49872511202246, 66.41095780455828, 66.30933974565158, 66.43921013274338, 66.56313851247546, 66.4586086281176, 66.52172262224407, 66.3878063613086, 66.51240714398232, 66.38594684252833, 66.20876269394513, 66.54224887993321, 66.11579019709677, 66.48051175447308, 66.5415145323949, 66.30482603658841, 66.60359272177014, 66.13858599596703, 66.28209484674997, 66.40723494088496, 66.36705843558393, 66.31562480365791, 66.31840627355025, 66.20304195485033, 66.68497357027786, 66.32522447165948, 66.46712911934071, 66.60413148684368, 66.40822406358242, 66.43816966994719, 66.55928503802971, 66.19446649858176, 66.37224822957549, 66.36992783563835, 66.36616269589172, 66.33551262895087, 66.57996794595805, 66.39335781348755, 66.32318925612327, 66.6110181338341, 66.09853311981126, 66.27480873856979, 66.34640371675377, 66.43158445435418, 66.35227798900078, 66.34653922147446, 66.23040407527542, 66.2867144654706, 66.51440674460493, 66.56016759941227, 66.34173667114922, 66.42313529516598, 66.30736175231522, 66.11385587841585, 66.34370192512891, 66.32026683030121, 66.2627591602735, 66.45409344235564, 66.35236894040517, 66.54888900201726, 66.37453729351238, 66.19432321736478, 66.41526570506856, 66.56055251991795, 66.43063745058997, 66.36772605032492, 66.30586843620536, 66.4668720828436, 66.12974563851097, 66.0623603013965, 66.28485639710355, 66.39270685046078, 66.32092421193477, 66.30970451175486, 66.17330032859962, 66.34313067956377, 66.52289104077313, 66.2663879879748, 66.39300940061796, 66.29921944571254, 66.35201748915809, 66.34432007976334, 66.34072529062655, 66.21134736062533, 66.6027717293316, 66.39424712816151, 66.60735372943317, 66.44670894832656, 66.37288245496124, 66.11240258608807, 66.33384743466202, 66.42846764597995, 66.51850438475897, 66.52054140284874, 66.5577166900088, 66.34438112777713, 66.42350715635322, 66.31709460962011, 66.38390131125864, 66.4783031095126, 66.54313456008333, 66.39755231723846, 66.40366613381748, 66.19430445413236, 66.430895918153, 66.42177944181334, 66.54153994375208, 66.29133069507441, 66.49763242116651, 66.25206212890677, 66.3638158705372, 66.4824069071652, 66.47976757104462, 66.32281209531529, 66.38349921917546, 66.06254074035128, 66.40223876177377, 66.33081195659726, 66.42993446595291, 66.40241349864478, 66.35581466667281, 66.0447408473065, 66.48117701197846, 66.42782608293997, 66.33153613133734, 66.32889798328384, 66.36379533490917, 66.22119575462708, 66.2765486526922, 66.41588446160841, 66.29396713039115, 66.3495516807083, 66.43072715508214, 66.71777127719018, 66.28411232261386, 66.33139607814603, 66.46055271997841, 66.20068019104617, 66.33339022036877, 66.29114394201311, 66.35264026124177, 66.34727592723773, 66.01396455178329, 66.2150364337894, 66.62523061559241, 66.19218191660042, 66.4423333144037, 66.30163360744807, 66.24377989897953, 66.21686364440068, 66.35126725872385, 66.23067144207357, 66.49989570638968, 66.28556752772552, 66.28886533322198, 66.30627854883228, 66.48815985570597, 66.4179489683918, 66.28362622696349, 66.33036103131207, 66.20275499080554, 66.23554077518699, 66.4483733282124, 66.22630119670897, 66.27466777292241, 66.22738258432223, 66.51818591139241, 66.4138129152311, 66.17719967776776, 66.09538243635119, 66.29544145560163, 66.42029533949814, 66.41797478674346, 66.49574876135546, 66.44969184842633, 66.26344710819367, 66.36445872876823, 66.40188029943445, 66.24546887045462, 66.43813247159548, 66.25743832467703, 66.34838966182335, 66.02220335281342, 66.41701329896415, 66.40923440465153, 66.28438189144904, 66.3574099217353, 66.51669522659475, 66.3225641603698, 66.47666147067275, 66.20449494871977, 66.36282022024918, 66.40263064932765, 66.43715648152245, 66.64723306629703, 66.35178338074726, 66.26424253550319, 66.18346322648293, 66.44497898860861, 66.49342104246881, 66.54074666999408, 66.2380617865608, 66.4239251885761, 66.24213417055147, 66.35629597513997, 66.24232003557815, 66.15267856571302, 66.39574398479851, 66.30330980293942, 66.17191040581343, 66.4746943951274, 66.49113222742233, 66.33201663895734, 66.2540582009306, 66.24018189574423, 66.34803687876995, 66.4066319617437, 66.50734383605187, 66.59063259804535, 66.20053358577682, 66.37222237202091, 66.14812429087122, 66.28947037245533, 66.42246785708164, 66.4495230219211, 66.29916060034887, 66.30362917325533, 66.30844465464334, 66.2565698020105, 66.49138191564558, 66.42033053064229, 66.34157067440093, 66.37641641141282, 66.52052040008599, 66.27550320346131, 66.40746202594914, 66.30627825155048, 66.41809628464851, 66.56056984679115, 66.47456303531263, 66.51692030740472, 66.45082862966612, 66.28089089205153, 66.41040962006308, 66.42216235646, 66.36753085439035, 66.01346740865846, 66.2368844545619, 66.23948146417601, 66.22551114995775, 66.4363653123972, 66.35068428651337, 66.38782755648991, 66.18380539339749, 66.26699744609395, 66.27134370891962, 66.33948385403815, 66.47911552327636, 66.2820493101772, 66.46976675044581, 66.35597462331663, 66.49019013122168, 66.56752047760678, 66.29754765307533, 66.20425812343254, 66.17019723043099, 66.52239090093035, 66.4426660199982, 66.38319622038101, 66.3104706344751, 66.39594378156706, 66.26846405416923, 66.27322049087924, 66.42981505204243, 66.37320099604685, 66.34843541485601, 66.36433936662944, 66.53147542702244, 66.44398948704242, 66.47497866992387, 66.20482508984374, 66.24665807955151, 66.33425855623916, 66.32928212639631, 66.2328175117229, 66.44866059714077, 66.33248420346942, 66.31347475170661, 66.21095598236637, 66.29972143035506, 66.24744020684656, 66.37706395269502, 66.33986871029012, 66.30787265272036, 66.41270415108005, 66.30202542218434, 66.42054181895206, 66.40203104033688, 66.35556487336865, 66.42315389351596, 66.67709514812312, 66.46725321635475, 66.50039923345216, 66.55019615342034, 66.30178058927245, 66.46715782186021, 66.53937799201202, 66.22348181000874, 66.14012588645737, 66.28409857427816, 66.43344132025318, 66.35735881714636, 66.21247729991764, 66.44958758681096, 66.39317808059617, 66.29010566581665, 66.2952722273632, 66.29642140512853, 66.28699349641174, 66.38813957701802, 66.38871885778664, 66.32667625326519, 66.37173516554495, 66.39522549314641, 66.21391743960933, 66.27399448911581, 66.44987148457949, 66.33633076684428, 66.20070220120714, 66.3363193070132, 66.41891060783341, 66.42521994672799, 66.54631891803648, 66.45170531409065, 66.34698543720813, 66.20476620826513, 66.46474019075316, 66.50502555015501, 66.31432368917118, 66.28659166470906, 66.18744034541156, 66.25413733212785, 66.54869214686627, 66.45800427522097, 66.24332304724504, 66.21336754003164, 66.51793887872024, 66.71333754724554, 66.40157793609058, 66.31697754906496, 66.29266504988269, 66.65382118517219, 66.44875059007073, 66.49308871156167, 66.45229314367768, 66.42323355468346, 66.33862513386072, 66.28331807163204, 66.11505179603516, 66.35648515379556, 66.479333789795, 66.46166484064322, 66.37309804711288, 66.25117143094475, 66.32975571756918, 66.26127302112549, 66.31427920771947, 66.4724867162242, 66.2426414177593, 66.29188172039017, 66.37452095799935, 66.35901948999837, 66.32607609060217, 66.41156957453919, 66.4338273123301, 66.412019257899, 66.23774583800905, 66.45968610519866, 66.47796028114648, 66.44180610656655, 66.48895898252051, 66.51224491958027, 66.42137685865606, 66.31672170372761, 66.33717592481734, 66.3598322123298, 66.2926129264598, 66.62009134958024, 66.11971657170238, 66.30479593511207, 66.518777070288, 66.24080768055295, 66.47221695158161, 66.40874070878809, 66.33399802809065, 66.42077639719055, 66.44524642016731, 66.36889891868995, 66.52774728438234, 66.29741357174775, 66.47438973471843, 66.35839803674322, 66.43687718931612, 66.27329610816652, 66.56745345660818, 66.54513377442586, 66.37536048967003, 66.34826098611983, 66.62521444722076, 66.40417812036276, 66.3389159269312, 66.18712263352616, 66.41406133910536, 66.4428869356543, 66.40004138661551, 66.50216671661812, 66.48314007397991, 66.37191133687487, 66.23812634494526, 66.21526465889515, 66.39233154010047, 66.30664571802937, 66.44105734175362, 66.1815200925671, 66.2968935734854, 66.26513760095308, 66.25169663007662, 66.36544044403446, 66.4786653850108, 66.1774893827434, 66.27305197466913, 66.55070123468263, 66.42021733023854, 66.25247935624456, 66.38837263699386, 66.43155727971914, 66.44520857465929, 66.52768025305349, 66.40115479819039, 66.55876912891178, 66.27660559436275, 66.41463984892269, 66.47106024803713, 66.42515294843083, 66.34152501953, 66.47899110992125, 66.24852025598038, 66.38836381787267, 66.24181412374504, 66.34885775157159, 66.49379387421952, 66.35306026305159, 66.43573508132216, 66.44278495554231, 66.29257732585049, 66.40684135136797, 66.31291189875311, 66.36577366022247, 66.32170780697017, 66.38002895104059, 66.08709716419858, 66.36451832828804, 66.56617219949882, 66.35647259487004, 66.38970450308572, 66.31537282243873, 66.23354861818699, 66.55957743713131, 66.43027093636518, 66.39644545919488, 66.37997655726437, 66.4398825751472, 66.39512520048316, 66.31731748351712, 66.42910688702183, 66.46358468547534, 66.40786865480358, 66.29927959902369, 66.31903374297956, 66.30949830317462, 66.14992526341149, 66.27148993590687, 66.36643947474707, 66.29597848980583, 66.4852443991212, 66.40750669826087, 66.36765352137486, 66.39835784933, 66.32381430622542, 66.20116665659718, 66.39755894805135, 66.45412035023159, 66.38961504685868, 66.37416846306965, 66.24864496002243, 66.25124773888012, 66.25911460664769, 66.20672867493322, 66.36486141703226, 66.61912237912821, 66.39932590083461, 66.35495591889679, 66.2296997562619, 66.71026878051835, 66.41220757979033, 66.42904273477907, 66.49782998477353, 66.41964427802361, 66.43935725467635, 66.30908165790204, 66.37177879074638, 66.09253096989653, 66.4648017015056, 66.32144872812502, 66.31599795416061, 66.35081366420647, 66.33476206079591, 66.5151737936176, 66.43977626317239, 66.49414462012574, 66.37824166969816, 66.46554686514436, 66.46647212054393, 66.38830346957879, 66.34012281477824, 66.5037118149488, 66.4239880170399, 66.2874583229266, 66.41526718386106, 66.38969136267812, 66.73882968643535, 66.4713440414702, 66.37349396900748, 66.48780945851203, 66.57464702615444, 66.37314448398878, 66.31576450072541, 66.34271625012488, 66.35745112664631, 66.39873958385223, 66.46688032072483, 66.29710563095124, 66.22289664343482, 66.51375730198119, 66.13650388577918, 66.24014638603443, 66.40191577013074, 66.43786341493056, 66.52759539076645, 66.46753997556702, 66.36465080307794, 66.1251006014284, 66.53591852720541, 66.27150827649821, 66.49422794157032, 66.25944996094204, 66.30458666018903, 66.32623329217934, 66.47445499661772, 66.38264948608538, 66.36198665801538, 66.19343139095078, 66.63047427478476, 66.37359752746096, 66.21833120822748, 66.44690870014864, 66.25447573894833, 66.22360831616778, 66.2463991762958, 66.32870813661819, 66.45690362123013, 66.21386725592731, 66.48544566096683, 66.31983475530583, 66.31719655882023, 66.301625405963, 66.25400548499049, 66.31715769478626, 66.42409694764223, 66.46653209425087, 66.30945167021206, 66.14906449758902, 66.31401786442407, 66.5683450424191, 66.32394703186732, 66.45973516240224, 66.29356068532175, 66.34428874675412, 66.35875446538968, 66.39510940369179, 66.4613774400485, 66.41050665868813, 66.31976217301067, 66.42925760708754, 66.56293715198065, 66.24278771743721, 66.44138543002522, 66.53023967637479, 66.36861968529308, 66.60352586368249, 66.63316066276303, 66.33027907565312, 66.44676458964231, 66.46806372643672, 66.30632277207621, 66.27620776988921, 66.49030075745118, 66.41398522405474, 66.39341644273736, 66.39953405063386, 66.34507155123045, 66.41625501824937, 66.43968417097267, 66.31108818432156, 66.3516012724115, 66.21029841747307, 66.50845794269905, 66.4280624032359, 66.21387189929362, 66.23023895264667, 66.5252119232417, 66.27030869207927, 66.27607221646386, 66.48653771531801, 66.2807451846445, 66.50064539924139, 66.24341816011447, 66.42120356954261, 66.31307850039568, 66.35550492267951, 66.40425088153908, 66.42389711763565, 66.39396535181481, 66.20890366854825, 66.30043399028723, 66.51198365768859, 66.1946478534919, 66.3587522020438, 66.50069981585543, 66.1198535609422, 66.3120287858843, 66.4459891690675, 66.41750314508803, 66.31840279682397, 66.36194460192247, 66.50323112786448, 66.20051328719815, 66.46555987598408, 66.58849528295018, 66.48634374598177, 66.48515238966412, 66.44229102666851, 66.26987159781353, 66.48349753720858, 66.43768411075798, 66.1657610608332, 66.31951921387703, 66.35387862254781, 66.39994734484088, 66.50943255732837, 66.3247677315041, 66.22677899310712, 66.61174301966696, 66.3588059009049, 66.23216696698148, 66.46649899269704, 66.3388711820879, 66.4716482919247, 66.57319906596179, 66.09779433639716, 66.38907731209635, 66.44689176417519, 66.39219317787918, 66.24276819696105, 66.57739849352429, 66.36321446714066, 66.4985285066898, 66.36505646423255, 66.5565609068273, 66.38629955145504, 66.53820856982502, 66.47217995029516, 66.36461959066212, 66.34988609339177, 66.36098896667696, 66.36588977396788, 66.14911042664171, 66.2551365176428, 66.39210035682348, 66.50796029792764, 66.31584953645142, 66.48139104643411, 66.48437132246337, 66.59194182199036, 66.29195119913847, 66.4009415810751, 66.4463637635062, 66.21186403876278, 66.33560380844585, 66.39455015568689, 66.36193714047485, 66.05592290442513, 66.35925618528321, 66.49105798062466, 66.19183713349392, 66.28987957203071, 66.6093315483251, 66.44784321314756, 66.34037125354263, 66.35139653755301, 66.51701077273516, 66.40623715022585, 66.12194755245814, 66.5001228007847, 66.39083545590678, 66.38563137707567, 66.28849657447982, 66.47049908039958, 66.3940848782429, 66.52864338626414, 66.21406465498647, 66.40618321631409, 66.47198010464045, 66.49793191303388, 66.62109734743169, 66.50163034381356, 66.38475692772124, 66.42534337512417, 66.30059338870713, 66.35167402963647, 66.3721309690398, 66.41565197501528, 66.18542112779113, 66.22108955948602, 66.2914130655211, 66.4651460515929, 66.27258051849296, 66.30315706998509, 66.39751645837954, 66.35724103778638, 66.41339948406088, 66.38449418595523, 66.2178632717872, 66.35420186343174, 66.40113964650357, 66.28674051926059, 66.419845883441, 66.4213181135543, 66.23558973581702, 66.23103413579348, 66.3400644681341, 66.28539758437174, 66.45074192583776, 66.30458322893512, 66.61562071392204, 66.70305013794207, 66.42674279935981, 66.29245346194331, 66.54495097181221, 66.35499278157045, 66.19401971310414, 66.51293155122075, 66.54479757615343, 66.35177945509194, 66.16727826047527, 66.4919472182944, 66.24247351213579, 66.50290336459368, 66.44606373303893, 66.43477498081137, 66.30188925709297, 66.14272270278853, 66.4389007770232, 66.26051995523693, 66.22639080577686, 66.31844703995637, 66.28044107959492, 66.18061473783817, 66.43765934901673, 66.3548966587334, 66.48258792901584, 66.30837930671126, 66.47272773359349, 66.21558736884285, 66.37075329515956, 66.27707101470051, 66.45379710638433, 66.33038349013299, 66.61707586886294, 66.37987564781469, 66.3427708370795, 66.40095466658275, 66.26130444967353, 66.27639575966532, 66.36131048777854, 66.36299946854152, 66.27841180271635, 66.28760841933168, 66.28614645706472, 66.34552972894372, 66.45326792999774, 66.43579671797738, 66.44517713797809, 66.44613904187621, 66.32296081615937, 66.32603679818759, 66.47389981582641, 66.413011976911, 66.41376416987951, 66.0252621229684, 66.35520958508022, 66.50746095858025, 66.40650668282117, 66.64816321087326, 66.47194462147137, 66.47563024649291, 66.33784909336275, 66.37553287204172, 66.49020342028886, 66.44933902903209, 66.23796449743831, 66.20547552341799, 66.53942580502442, 66.34841206725893, 66.27444664195093, 66.54230782250335, 66.53707709143917, 66.46270995615437, 66.39292816257183, 66.52590121483937, 66.39578411500173, 66.20780031867695, 66.42221327898584, 66.46736207130444, 66.58710285393722, 66.41638203187294, 66.41279142322843, 66.51810559803062, 66.28737493542846, 66.43994359468154, 66.36570061428148, 66.588131722286, 66.50414931764006, 66.25185611736434, 66.41569363327801, 66.48217162610474, 66.28114184301121, 66.35083049177265, 65.99911690607391, 66.50213331263764, 66.44811110168183]\n"
     ]
    }
   ],
   "source": [
    "print(s)"
   ]
  },
  {
   "cell_type": "code",
   "execution_count": 15,
   "metadata": {
    "colab": {
     "base_uri": "https://localhost:8080/"
    },
    "id": "yPJoiCmAlY2f",
    "outputId": "fcee21fa-b37b-448e-bd4e-a1be9b6ba129"
   },
   "outputs": [
    {
     "data": {
      "text/plain": [
       "66.37303965312542"
      ]
     },
     "execution_count": 15,
     "metadata": {},
     "output_type": "execute_result"
    }
   ],
   "source": [
    "np.mean(np.array(s))"
   ]
  },
  {
   "cell_type": "code",
   "execution_count": 23,
   "metadata": {
    "colab": {
     "base_uri": "https://localhost:8080/",
     "height": 342
    },
    "id": "rhJf-X6Tllw9",
    "outputId": "f93d05f5-f2a3-427f-8245-458f79798c94"
   },
   "outputs": [
    {
     "data": {
      "application/vnd.google.colaboratory.intrinsic+json": {
       "type": "dataframe",
       "variable_name": "df2"
      },
      "text/html": [
       "\n",
       "  <div id=\"df-38cb1cc7-7015-4fd8-b33a-3a0c4f53fc39\" class=\"colab-df-container\">\n",
       "    <div>\n",
       "<style scoped>\n",
       "    .dataframe tbody tr th:only-of-type {\n",
       "        vertical-align: middle;\n",
       "    }\n",
       "\n",
       "    .dataframe tbody tr th {\n",
       "        vertical-align: top;\n",
       "    }\n",
       "\n",
       "    .dataframe thead th {\n",
       "        text-align: right;\n",
       "    }\n",
       "</style>\n",
       "<table border=\"1\" class=\"dataframe\">\n",
       "  <thead>\n",
       "    <tr style=\"text-align: right;\">\n",
       "      <th></th>\n",
       "      <th>customerID</th>\n",
       "      <th>gender</th>\n",
       "      <th>SeniorCitizen</th>\n",
       "      <th>Partner</th>\n",
       "      <th>Dependents</th>\n",
       "      <th>tenure</th>\n",
       "      <th>PhoneService</th>\n",
       "      <th>MultipleLines</th>\n",
       "      <th>InternetService</th>\n",
       "      <th>OnlineSecurity</th>\n",
       "      <th>...</th>\n",
       "      <th>DeviceProtection</th>\n",
       "      <th>TechSupport</th>\n",
       "      <th>StreamingTV</th>\n",
       "      <th>StreamingMovies</th>\n",
       "      <th>Contract</th>\n",
       "      <th>PaperlessBilling</th>\n",
       "      <th>PaymentMethod</th>\n",
       "      <th>MonthlyCharges</th>\n",
       "      <th>TotalCharges</th>\n",
       "      <th>Churn</th>\n",
       "    </tr>\n",
       "  </thead>\n",
       "  <tbody>\n",
       "    <tr>\n",
       "      <th>0</th>\n",
       "      <td>7590-VHVEG</td>\n",
       "      <td>Female</td>\n",
       "      <td>0</td>\n",
       "      <td>Yes</td>\n",
       "      <td>No</td>\n",
       "      <td>1</td>\n",
       "      <td>No</td>\n",
       "      <td>No phone service</td>\n",
       "      <td>DSL</td>\n",
       "      <td>No</td>\n",
       "      <td>...</td>\n",
       "      <td>No</td>\n",
       "      <td>No</td>\n",
       "      <td>No</td>\n",
       "      <td>No</td>\n",
       "      <td>Month-to-month</td>\n",
       "      <td>Yes</td>\n",
       "      <td>Electronic check</td>\n",
       "      <td>29.85</td>\n",
       "      <td>29.85</td>\n",
       "      <td>No</td>\n",
       "    </tr>\n",
       "    <tr>\n",
       "      <th>1</th>\n",
       "      <td>5575-GNVDE</td>\n",
       "      <td>Male</td>\n",
       "      <td>0</td>\n",
       "      <td>No</td>\n",
       "      <td>No</td>\n",
       "      <td>34</td>\n",
       "      <td>Yes</td>\n",
       "      <td>No</td>\n",
       "      <td>DSL</td>\n",
       "      <td>Yes</td>\n",
       "      <td>...</td>\n",
       "      <td>Yes</td>\n",
       "      <td>No</td>\n",
       "      <td>No</td>\n",
       "      <td>No</td>\n",
       "      <td>One year</td>\n",
       "      <td>No</td>\n",
       "      <td>Mailed check</td>\n",
       "      <td>56.95</td>\n",
       "      <td>1889.5</td>\n",
       "      <td>No</td>\n",
       "    </tr>\n",
       "    <tr>\n",
       "      <th>2</th>\n",
       "      <td>3668-QPYBK</td>\n",
       "      <td>Male</td>\n",
       "      <td>0</td>\n",
       "      <td>No</td>\n",
       "      <td>No</td>\n",
       "      <td>2</td>\n",
       "      <td>Yes</td>\n",
       "      <td>No</td>\n",
       "      <td>DSL</td>\n",
       "      <td>Yes</td>\n",
       "      <td>...</td>\n",
       "      <td>No</td>\n",
       "      <td>No</td>\n",
       "      <td>No</td>\n",
       "      <td>No</td>\n",
       "      <td>Month-to-month</td>\n",
       "      <td>Yes</td>\n",
       "      <td>Mailed check</td>\n",
       "      <td>53.85</td>\n",
       "      <td>108.15</td>\n",
       "      <td>Yes</td>\n",
       "    </tr>\n",
       "    <tr>\n",
       "      <th>3</th>\n",
       "      <td>7795-CFOCW</td>\n",
       "      <td>Male</td>\n",
       "      <td>0</td>\n",
       "      <td>No</td>\n",
       "      <td>No</td>\n",
       "      <td>45</td>\n",
       "      <td>No</td>\n",
       "      <td>No phone service</td>\n",
       "      <td>DSL</td>\n",
       "      <td>Yes</td>\n",
       "      <td>...</td>\n",
       "      <td>Yes</td>\n",
       "      <td>Yes</td>\n",
       "      <td>No</td>\n",
       "      <td>No</td>\n",
       "      <td>One year</td>\n",
       "      <td>No</td>\n",
       "      <td>Bank transfer (automatic)</td>\n",
       "      <td>42.30</td>\n",
       "      <td>1840.75</td>\n",
       "      <td>No</td>\n",
       "    </tr>\n",
       "    <tr>\n",
       "      <th>4</th>\n",
       "      <td>9237-HQITU</td>\n",
       "      <td>Female</td>\n",
       "      <td>0</td>\n",
       "      <td>No</td>\n",
       "      <td>No</td>\n",
       "      <td>2</td>\n",
       "      <td>Yes</td>\n",
       "      <td>No</td>\n",
       "      <td>Fiber optic</td>\n",
       "      <td>No</td>\n",
       "      <td>...</td>\n",
       "      <td>No</td>\n",
       "      <td>No</td>\n",
       "      <td>No</td>\n",
       "      <td>No</td>\n",
       "      <td>Month-to-month</td>\n",
       "      <td>Yes</td>\n",
       "      <td>Electronic check</td>\n",
       "      <td>70.70</td>\n",
       "      <td>151.65</td>\n",
       "      <td>Yes</td>\n",
       "    </tr>\n",
       "  </tbody>\n",
       "</table>\n",
       "<p>5 rows × 21 columns</p>\n",
       "</div>\n",
       "    <div class=\"colab-df-buttons\">\n",
       "\n",
       "  <div class=\"colab-df-container\">\n",
       "    <button class=\"colab-df-convert\" onclick=\"convertToInteractive('df-38cb1cc7-7015-4fd8-b33a-3a0c4f53fc39')\"\n",
       "            title=\"Convert this dataframe to an interactive table.\"\n",
       "            style=\"display:none;\">\n",
       "\n",
       "  <svg xmlns=\"http://www.w3.org/2000/svg\" height=\"24px\" viewBox=\"0 -960 960 960\">\n",
       "    <path d=\"M120-120v-720h720v720H120Zm60-500h600v-160H180v160Zm220 220h160v-160H400v160Zm0 220h160v-160H400v160ZM180-400h160v-160H180v160Zm440 0h160v-160H620v160ZM180-180h160v-160H180v160Zm440 0h160v-160H620v160Z\"/>\n",
       "  </svg>\n",
       "    </button>\n",
       "\n",
       "  <style>\n",
       "    .colab-df-container {\n",
       "      display:flex;\n",
       "      gap: 12px;\n",
       "    }\n",
       "\n",
       "    .colab-df-convert {\n",
       "      background-color: #E8F0FE;\n",
       "      border: none;\n",
       "      border-radius: 50%;\n",
       "      cursor: pointer;\n",
       "      display: none;\n",
       "      fill: #1967D2;\n",
       "      height: 32px;\n",
       "      padding: 0 0 0 0;\n",
       "      width: 32px;\n",
       "    }\n",
       "\n",
       "    .colab-df-convert:hover {\n",
       "      background-color: #E2EBFA;\n",
       "      box-shadow: 0px 1px 2px rgba(60, 64, 67, 0.3), 0px 1px 3px 1px rgba(60, 64, 67, 0.15);\n",
       "      fill: #174EA6;\n",
       "    }\n",
       "\n",
       "    .colab-df-buttons div {\n",
       "      margin-bottom: 4px;\n",
       "    }\n",
       "\n",
       "    [theme=dark] .colab-df-convert {\n",
       "      background-color: #3B4455;\n",
       "      fill: #D2E3FC;\n",
       "    }\n",
       "\n",
       "    [theme=dark] .colab-df-convert:hover {\n",
       "      background-color: #434B5C;\n",
       "      box-shadow: 0px 1px 3px 1px rgba(0, 0, 0, 0.15);\n",
       "      filter: drop-shadow(0px 1px 2px rgba(0, 0, 0, 0.3));\n",
       "      fill: #FFFFFF;\n",
       "    }\n",
       "  </style>\n",
       "\n",
       "    <script>\n",
       "      const buttonEl =\n",
       "        document.querySelector('#df-38cb1cc7-7015-4fd8-b33a-3a0c4f53fc39 button.colab-df-convert');\n",
       "      buttonEl.style.display =\n",
       "        google.colab.kernel.accessAllowed ? 'block' : 'none';\n",
       "\n",
       "      async function convertToInteractive(key) {\n",
       "        const element = document.querySelector('#df-38cb1cc7-7015-4fd8-b33a-3a0c4f53fc39');\n",
       "        const dataTable =\n",
       "          await google.colab.kernel.invokeFunction('convertToInteractive',\n",
       "                                                    [key], {});\n",
       "        if (!dataTable) return;\n",
       "\n",
       "        const docLinkHtml = 'Like what you see? Visit the ' +\n",
       "          '<a target=\"_blank\" href=https://colab.research.google.com/notebooks/data_table.ipynb>data table notebook</a>'\n",
       "          + ' to learn more about interactive tables.';\n",
       "        element.innerHTML = '';\n",
       "        dataTable['output_type'] = 'display_data';\n",
       "        await google.colab.output.renderOutput(dataTable, element);\n",
       "        const docLink = document.createElement('div');\n",
       "        docLink.innerHTML = docLinkHtml;\n",
       "        element.appendChild(docLink);\n",
       "      }\n",
       "    </script>\n",
       "  </div>\n",
       "\n",
       "\n",
       "<div id=\"df-e474610b-401b-4dba-9697-aab6db1118bd\">\n",
       "  <button class=\"colab-df-quickchart\" onclick=\"quickchart('df-e474610b-401b-4dba-9697-aab6db1118bd')\"\n",
       "            title=\"Suggest charts\"\n",
       "            style=\"display:none;\">\n",
       "\n",
       "<svg xmlns=\"http://www.w3.org/2000/svg\" height=\"24px\"viewBox=\"0 0 24 24\"\n",
       "     width=\"24px\">\n",
       "    <g>\n",
       "        <path d=\"M19 3H5c-1.1 0-2 .9-2 2v14c0 1.1.9 2 2 2h14c1.1 0 2-.9 2-2V5c0-1.1-.9-2-2-2zM9 17H7v-7h2v7zm4 0h-2V7h2v10zm4 0h-2v-4h2v4z\"/>\n",
       "    </g>\n",
       "</svg>\n",
       "  </button>\n",
       "\n",
       "<style>\n",
       "  .colab-df-quickchart {\n",
       "      --bg-color: #E8F0FE;\n",
       "      --fill-color: #1967D2;\n",
       "      --hover-bg-color: #E2EBFA;\n",
       "      --hover-fill-color: #174EA6;\n",
       "      --disabled-fill-color: #AAA;\n",
       "      --disabled-bg-color: #DDD;\n",
       "  }\n",
       "\n",
       "  [theme=dark] .colab-df-quickchart {\n",
       "      --bg-color: #3B4455;\n",
       "      --fill-color: #D2E3FC;\n",
       "      --hover-bg-color: #434B5C;\n",
       "      --hover-fill-color: #FFFFFF;\n",
       "      --disabled-bg-color: #3B4455;\n",
       "      --disabled-fill-color: #666;\n",
       "  }\n",
       "\n",
       "  .colab-df-quickchart {\n",
       "    background-color: var(--bg-color);\n",
       "    border: none;\n",
       "    border-radius: 50%;\n",
       "    cursor: pointer;\n",
       "    display: none;\n",
       "    fill: var(--fill-color);\n",
       "    height: 32px;\n",
       "    padding: 0;\n",
       "    width: 32px;\n",
       "  }\n",
       "\n",
       "  .colab-df-quickchart:hover {\n",
       "    background-color: var(--hover-bg-color);\n",
       "    box-shadow: 0 1px 2px rgba(60, 64, 67, 0.3), 0 1px 3px 1px rgba(60, 64, 67, 0.15);\n",
       "    fill: var(--button-hover-fill-color);\n",
       "  }\n",
       "\n",
       "  .colab-df-quickchart-complete:disabled,\n",
       "  .colab-df-quickchart-complete:disabled:hover {\n",
       "    background-color: var(--disabled-bg-color);\n",
       "    fill: var(--disabled-fill-color);\n",
       "    box-shadow: none;\n",
       "  }\n",
       "\n",
       "  .colab-df-spinner {\n",
       "    border: 2px solid var(--fill-color);\n",
       "    border-color: transparent;\n",
       "    border-bottom-color: var(--fill-color);\n",
       "    animation:\n",
       "      spin 1s steps(1) infinite;\n",
       "  }\n",
       "\n",
       "  @keyframes spin {\n",
       "    0% {\n",
       "      border-color: transparent;\n",
       "      border-bottom-color: var(--fill-color);\n",
       "      border-left-color: var(--fill-color);\n",
       "    }\n",
       "    20% {\n",
       "      border-color: transparent;\n",
       "      border-left-color: var(--fill-color);\n",
       "      border-top-color: var(--fill-color);\n",
       "    }\n",
       "    30% {\n",
       "      border-color: transparent;\n",
       "      border-left-color: var(--fill-color);\n",
       "      border-top-color: var(--fill-color);\n",
       "      border-right-color: var(--fill-color);\n",
       "    }\n",
       "    40% {\n",
       "      border-color: transparent;\n",
       "      border-right-color: var(--fill-color);\n",
       "      border-top-color: var(--fill-color);\n",
       "    }\n",
       "    60% {\n",
       "      border-color: transparent;\n",
       "      border-right-color: var(--fill-color);\n",
       "    }\n",
       "    80% {\n",
       "      border-color: transparent;\n",
       "      border-right-color: var(--fill-color);\n",
       "      border-bottom-color: var(--fill-color);\n",
       "    }\n",
       "    90% {\n",
       "      border-color: transparent;\n",
       "      border-bottom-color: var(--fill-color);\n",
       "    }\n",
       "  }\n",
       "</style>\n",
       "\n",
       "  <script>\n",
       "    async function quickchart(key) {\n",
       "      const quickchartButtonEl =\n",
       "        document.querySelector('#' + key + ' button');\n",
       "      quickchartButtonEl.disabled = true;  // To prevent multiple clicks.\n",
       "      quickchartButtonEl.classList.add('colab-df-spinner');\n",
       "      try {\n",
       "        const charts = await google.colab.kernel.invokeFunction(\n",
       "            'suggestCharts', [key], {});\n",
       "      } catch (error) {\n",
       "        console.error('Error during call to suggestCharts:', error);\n",
       "      }\n",
       "      quickchartButtonEl.classList.remove('colab-df-spinner');\n",
       "      quickchartButtonEl.classList.add('colab-df-quickchart-complete');\n",
       "    }\n",
       "    (() => {\n",
       "      let quickchartButtonEl =\n",
       "        document.querySelector('#df-e474610b-401b-4dba-9697-aab6db1118bd button');\n",
       "      quickchartButtonEl.style.display =\n",
       "        google.colab.kernel.accessAllowed ? 'block' : 'none';\n",
       "    })();\n",
       "  </script>\n",
       "</div>\n",
       "    </div>\n",
       "  </div>\n"
      ],
      "text/plain": [
       "   customerID  gender  SeniorCitizen Partner Dependents  tenure PhoneService  \\\n",
       "0  7590-VHVEG  Female              0     Yes         No       1           No   \n",
       "1  5575-GNVDE    Male              0      No         No      34          Yes   \n",
       "2  3668-QPYBK    Male              0      No         No       2          Yes   \n",
       "3  7795-CFOCW    Male              0      No         No      45           No   \n",
       "4  9237-HQITU  Female              0      No         No       2          Yes   \n",
       "\n",
       "      MultipleLines InternetService OnlineSecurity  ... DeviceProtection  \\\n",
       "0  No phone service             DSL             No  ...               No   \n",
       "1                No             DSL            Yes  ...              Yes   \n",
       "2                No             DSL            Yes  ...               No   \n",
       "3  No phone service             DSL            Yes  ...              Yes   \n",
       "4                No     Fiber optic             No  ...               No   \n",
       "\n",
       "  TechSupport StreamingTV StreamingMovies        Contract PaperlessBilling  \\\n",
       "0          No          No              No  Month-to-month              Yes   \n",
       "1          No          No              No        One year               No   \n",
       "2          No          No              No  Month-to-month              Yes   \n",
       "3         Yes          No              No        One year               No   \n",
       "4          No          No              No  Month-to-month              Yes   \n",
       "\n",
       "               PaymentMethod MonthlyCharges  TotalCharges Churn  \n",
       "0           Electronic check          29.85         29.85    No  \n",
       "1               Mailed check          56.95        1889.5    No  \n",
       "2               Mailed check          53.85        108.15   Yes  \n",
       "3  Bank transfer (automatic)          42.30       1840.75    No  \n",
       "4           Electronic check          70.70        151.65   Yes  \n",
       "\n",
       "[5 rows x 21 columns]"
      ]
     },
     "execution_count": 23,
     "metadata": {},
     "output_type": "execute_result"
    }
   ],
   "source": [
    "df2 = pd.read_excel(\"/content/drive/MyDrive/Probability PPTs/Descriptive Statistics/telco_churn.xlsx\")\n",
    "df2.head()"
   ]
  },
  {
   "cell_type": "code",
   "execution_count": 24,
   "metadata": {
    "colab": {
     "base_uri": "https://localhost:8080/",
     "height": 467
    },
    "id": "3cA2n6qlmBkf",
    "outputId": "674825d8-2bef-4f32-d5ad-0a2f88fd433d"
   },
   "outputs": [
    {
     "data": {
      "text/plain": [
       "<Axes: xlabel='tenure', ylabel='Count'>"
      ]
     },
     "execution_count": 24,
     "metadata": {},
     "output_type": "execute_result"
    },
    {
     "data": {
      "image/png": "[encoded data removed]",
      "text/plain": [
       "<Figure size 640x480 with 1 Axes>"
      ]
     },
     "metadata": {},
     "output_type": "display_data"
    }
   ],
   "source": [
    "sns.histplot(x = df2['tenure'])"
   ]
  },
  {
   "cell_type": "code",
   "execution_count": 25,
   "metadata": {
    "id": "FhH78w7lmGl3"
   },
   "outputs": [],
   "source": [
    "s = []\n",
    "for i in range(1000):\n",
    "  a =  df2['tenure'].sample(1000).mean()\n",
    "  s.append(a)"
   ]
  },
  {
   "cell_type": "code",
   "execution_count": 26,
   "metadata": {
    "colab": {
     "base_uri": "https://localhost:8080/",
     "height": 448
    },
    "id": "cHumzPQZmmoY",
    "outputId": "a73097a6-931f-46d5-d7d8-3a5b88f2bbce"
   },
   "outputs": [
    {
     "data": {
      "text/plain": [
       "<Axes: ylabel='Count'>"
      ]
     },
     "execution_count": 26,
     "metadata": {},
     "output_type": "execute_result"
    },
    {
     "data": {
      "image/png": "[encoded data removed]",
      "text/plain": [
       "<Figure size 640x480 with 1 Axes>"
      ]
     },
     "metadata": {},
     "output_type": "display_data"
    }
   ],
   "source": [
    "sns.histplot(s)"
   ]
  },
  {
   "cell_type": "code",
   "execution_count": 35,
   "metadata": {
    "colab": {
     "base_uri": "https://localhost:8080/"
    },
    "id": "Uv3T2OdumpJC",
    "outputId": "e027a141-d55a-475a-9e5e-034268570d1d"
   },
   "outputs": [
    {
     "data": {
      "text/plain": [
       "0.9999961278917845"
      ]
     },
     "execution_count": 35,
     "metadata": {},
     "output_type": "execute_result"
    }
   ],
   "source": [
    "#Customer to complete purchase\n",
    "\n",
    "se = 1/np.sqrt(5)\n",
    "z = (6-4)/se\n",
    "norm.cdf(z)"
   ]
  },
  {
   "cell_type": "code",
   "execution_count": 38,
   "metadata": {
    "colab": {
     "base_uri": "https://localhost:8080/"
    },
    "id": "32-6X5mBqAuw",
    "outputId": "0f9f6a95-cd66-4a3f-8903-1f32c2487d9d"
   },
   "outputs": [
    {
     "data": {
      "text/plain": [
       "-1.6448536269514729"
      ]
     },
     "execution_count": 38,
     "metadata": {},
     "output_type": "execute_result"
    }
   ],
   "source": [
    "norm.ppf(0.05)"
   ]
  },
  {
   "cell_type": "code",
   "execution_count": 37,
   "metadata": {
    "colab": {
     "base_uri": "https://localhost:8080/"
    },
    "id": "pxZX8yJpqx17",
    "outputId": "9aa4e230-307d-424c-d586-120145cc0443"
   },
   "outputs": [
    {
     "data": {
      "text/plain": [
       "(10.11, 10.89)"
      ]
     },
     "execution_count": 37,
     "metadata": {},
     "output_type": "execute_result"
    }
   ],
   "source": [
    "#100Patients recovery time\n",
    "\n",
    "se = 2/np.sqrt(100)\n",
    "m = 10.5\n",
    "z = 1.95\n",
    "\n",
    "(m-z*se, m+z*se)"
   ]
  },
  {
   "cell_type": "code",
   "execution_count": 39,
   "metadata": {
    "colab": {
     "base_uri": "https://localhost:8080/"
    },
    "id": "tLeX64EGrI-m",
    "outputId": "67253c4b-ee2a-45b2-f00e-0d1fb051f0eb"
   },
   "outputs": [
    {
     "data": {
      "text/plain": [
       "(3.336, 3.664)"
      ]
     },
     "execution_count": 39,
     "metadata": {},
     "output_type": "execute_result"
    }
   ],
   "source": [
    "#Youtube Watch time\n",
    "\n",
    "se = 1/np.sqrt(100)\n",
    "m = 3.5\n",
    "z = 1.64\n",
    "\n",
    "(m-z*se, m+z*se)"
   ]
  },
  {
   "cell_type": "code",
   "execution_count": 40,
   "metadata": {
    "colab": {
     "base_uri": "https://localhost:8080/"
    },
    "id": "FJX8Ah16tVk0",
    "outputId": "c040064e-ecc5-4365-b089-07c0eab31501"
   },
   "outputs": [
    {
     "data": {
      "text/plain": [
       "(0.641, 0.7190000000000001)"
      ]
     },
     "execution_count": 40,
     "metadata": {},
     "output_type": "execute_result"
    }
   ],
   "source": [
    "#Sumith head over heals to Ankita\n",
    "\n",
    "se = 0.2/np.sqrt(100)\n",
    "m = .68\n",
    "z = 1.95\n",
    "(m-z*se, m+z*se)"
   ]
  },
  {
   "cell_type": "code",
   "execution_count": 41,
   "metadata": {
    "colab": {
     "base_uri": "https://localhost:8080/"
    },
    "id": "00Khe4RiwHxz",
    "outputId": "277661e9-17fe-4659-c313-f8bfb800a413"
   },
   "outputs": [
    {
     "data": {
      "text/plain": [
       "0.009211062727049501"
      ]
     },
     "execution_count": 41,
     "metadata": {},
     "output_type": "execute_result"
    }
   ],
   "source": [
    "#Quiz-1\n",
    "\n",
    "se = 15/np.sqrt(50)\n",
    "z = (75-80)/se\n",
    "norm.cdf(z)"
   ]
  },
  {
   "cell_type": "code",
   "execution_count": 42,
   "metadata": {
    "colab": {
     "base_uri": "https://localhost:8080/"
    },
    "id": "iKpI9vhlyWHt",
    "outputId": "bce34c1b-7690-4e8a-d55e-a59927de0c50"
   },
   "outputs": [
    {
     "data": {
      "text/plain": [
       "(43.16642425845017, 46.83357574154983)"
      ]
     },
     "execution_count": 42,
     "metadata": {},
     "output_type": "execute_result"
    }
   ],
   "source": [
    "#Quiz-2\n",
    "\n",
    "se = 10/np.sqrt(80)\n",
    "m = 45\n",
    "z = 1.64\n",
    "(m-z*se, m+z*se)"
   ]
  },
  {
   "cell_type": "code",
   "execution_count": 43,
   "metadata": {
    "id": "pGe7_jkf1E4n"
   },
   "outputs": [],
   "source": [
    "s = [20,37, 17, 50, 53, 33]"
   ]
  },
  {
   "cell_type": "code",
   "execution_count": 44,
   "metadata": {
    "colab": {
     "base_uri": "https://localhost:8080/"
    },
    "id": "OaS2jhF23FSc",
    "outputId": "e99b85c8-7abe-449d-a73d-e730a04a9e9b"
   },
   "outputs": [
    {
     "data": {
      "text/plain": [
       "array([50, 20, 20, 37, 37, 20])"
      ]
     },
     "execution_count": 44,
     "metadata": {},
     "output_type": "execute_result"
    }
   ],
   "source": [
    "np.random.choice(s, size = len(s))"
   ]
  },
  {
   "cell_type": "code",
   "execution_count": 45,
   "metadata": {
    "colab": {
     "base_uri": "https://localhost:8080/"
    },
    "id": "RlbINQAH3L1I",
    "outputId": "63f9da32-7c35-491b-b257-fea5022dc16e"
   },
   "outputs": [
    {
     "data": {
      "text/plain": [
       "array([37, 20, 17, 53, 17, 53])"
      ]
     },
     "execution_count": 45,
     "metadata": {},
     "output_type": "execute_result"
    }
   ],
   "source": [
    "np.random.choice(s, size = len(s))"
   ]
  },
  {
   "cell_type": "code",
   "execution_count": 46,
   "metadata": {
    "id": "uzROEk7q3TNn"
   },
   "outputs": [],
   "source": [
    "sd = [np.mean(np.random.choice(s, size = len(s))) for i in range(1000)]"
   ]
  },
  {
   "cell_type": "code",
   "execution_count": 47,
   "metadata": {
    "colab": {
     "base_uri": "https://localhost:8080/",
     "height": 448
    },
    "id": "462NS2dJ3fPK",
    "outputId": "506443cc-9b9c-45d1-b0c5-1effe44e1abf"
   },
   "outputs": [
    {
     "data": {
      "text/plain": [
       "<Axes: ylabel='Count'>"
      ]
     },
     "execution_count": 47,
     "metadata": {},
     "output_type": "execute_result"
    },
    {
     "data": {
      "image/png": "[encoded data removed]",
      "text/plain": [
       "<Figure size 640x480 with 1 Axes>"
      ]
     },
     "metadata": {},
     "output_type": "display_data"
    }
   ],
   "source": [
    "sns.histplot(sd)"
   ]
  },
  {
   "cell_type": "code",
   "execution_count": 48,
   "metadata": {
    "colab": {
     "base_uri": "https://localhost:8080/"
    },
    "id": "ngstBUyo3gk-",
    "outputId": "b460e9eb-7169-4225-d506-9c8fe14f3c9e"
   },
   "outputs": [
    {
     "data": {
      "text/plain": [
       "26.166666666666668"
      ]
     },
     "execution_count": 48,
     "metadata": {},
     "output_type": "execute_result"
    }
   ],
   "source": [
    "np.percentile(sd, 5)"
   ]
  },
  {
   "cell_type": "code",
   "execution_count": 49,
   "metadata": {
    "colab": {
     "base_uri": "https://localhost:8080/"
    },
    "id": "7q441_8P3n5t",
    "outputId": "fed08962-5988-45ab-8854-738fe5bcbe4e"
   },
   "outputs": [
    {
     "data": {
      "text/plain": [
       "44.51666666666665"
      ]
     },
     "execution_count": 49,
     "metadata": {},
     "output_type": "execute_result"
    }
   ],
   "source": [
    "np.percentile(sd, 95)"
   ]
  },
  {
   "cell_type": "code",
   "execution_count": null,
   "metadata": {
    "id": "ElIpSLQq3pZV"
   },
   "outputs": [],
   "source": []
  }
 ],
 "metadata": {
  "colab": {
   "provenance": []
  },
  "kernelspec": {
   "display_name": "Python 3 (ipykernel)",
   "language": "python",
   "name": "python3"
  },
  "language_info": {
   "codemirror_mode": {
    "name": "ipython",
    "version": 3
   },
   "file_extension": ".py",
   "mimetype": "text/x-python",
   "name": "python",
   "nbconvert_exporter": "python",
   "pygments_lexer": "ipython3",
   "version": "3.12.3"
  }
 },
 "nbformat": 4,
 "nbformat_minor": 4
}
